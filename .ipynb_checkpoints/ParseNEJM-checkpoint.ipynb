{
 "cells": [
  {
   "cell_type": "code",
   "execution_count": 73,
   "metadata": {},
   "outputs": [],
   "source": [
    "import requests\n",
    "import json\n",
    "import csv,os,sys\n",
    "from bs4 import BeautifulSoup\n",
    "\n",
    "\n",
    "#content = requests.get(url)\n",
    "page = BeautifulSoup(open('Coronavirus (COVID19) _ JAMA Network.html'), \"html.parser\")\n",
    "results = []\n",
    "\n",
    "txt = []\n",
    "link = []\n",
    "ID = []\n",
    "AB = []\n",
    "Dates = []\n",
    "Type = []\n",
    "\n",
    "for entry in page.find_all(\"a\", attrs={\"class\": \"article--title d-b mb05\"}):\n",
    "    txt.append(entry.text)\n",
    "    link.append(entry.get('href'))\n",
    "    ID.append(entry.get('href').split('/')[-1])\n",
    "    \n",
    "for abstract in page.find_all(\"div\", attrs={\"class\": \"article--excerpt\"}): \n",
    "    if abstract.p != None:\n",
    "        AB.append(abstract.p.text)\n",
    "    else:\n",
    "        AB.append('NA')\n",
    "        \n",
    "for Date in page.find_all(\"div\", attrs={\"class\": \"article--date meta-item no-wrap\"}): \n",
    "    D = datetime.strptime(Date.text, '%B %d, %Y')\n",
    "    Dates.append(D.strftime(\"%Y%m%d\"))\n",
    "\n",
    "for typemeta in page.find_all(\"div\", attrs={\"class\": \"article--type meta-item\"}): \n",
    "    Type.append(typemeta.text)\n",
    "\n",
    "    \n",
    "json_file = 'jama.json'\n",
    "dict_file = 'jama_dict_file.json'\n",
    "\n",
    "\n",
    "#read the stored dictionary file (dict_file) or create a new blank dictionary\n",
    "if os.path.isfile(dict_file):\n",
    "    jsondict = json.load(open(dict_file))\n",
    "else:\n",
    "    jsondict = {}    \n",
    "    \n",
    "    \n",
    "for N in range(0, len(ID)) :\n",
    "    if ID[N] not in jsondict.keys():\n",
    "        jsondict[ID[N]] = {'ID' : ID[N] , \n",
    "                          'txt' : txt[N],\n",
    "                          'AB' : AB[N],\n",
    "                          'link' : link[N],\n",
    "                           'Dates' : Dates[N],\n",
    "                           'Type' : Type[N]\n",
    "                          }\n",
    "jsondict\n",
    "\n",
    "\n",
    "#Write the main json file\n",
    "with open(json_file , 'w') as fp:   \n",
    "    Output=[]\n",
    "    for Key,Item in jsondict.items():\n",
    "        Output.append(Item)\n",
    "    json.dump(Output, fp)\n",
    "\n",
    "#Write the exact dict as json file (easily read by the script)\n",
    "with open(dict_file , 'w') as fp:   \n",
    "    json.dump(jsondict, fp)"
   ]
  },
  {
   "cell_type": "code",
   "execution_count": 74,
   "metadata": {},
   "outputs": [],
   "source": [
    "def MakeTemplate():\n",
    "    headerslist = []\n",
    "    for H in ('ID' ,'txt' ,'AB' ,'link' ,'Dates' ,'Type' ):\n",
    "\n",
    "        print(H)\n",
    "        headers = '=ImportJSON(\"https://raw.githubusercontent.com/tofaquih/coronaPubGet/master/jama.json\", \"/{}\", \"noInherit,noTruncate\")'.format(H)\n",
    "        headerslist.append(headers)\n",
    "\n",
    "    headerslist\n",
    "    with open('JAMA_template.csv' ,'w'  , newline='' ) as fp:\n",
    "        W = csv.writer(fp, delimiter=';')\n",
    "        W.writerow(headerslist)\n",
    "        "
   ]
  },
  {
   "cell_type": "code",
   "execution_count": 71,
   "metadata": {},
   "outputs": [
    {
     "name": "stdout",
     "output_type": "stream",
     "text": [
      "ID\n",
      "txt\n",
      "AB\n",
      "link\n",
      "Dates\n",
      "Type\n"
     ]
    }
   ],
   "source": [
    "MakeTemplate()"
   ]
  }
 ],
 "metadata": {
  "kernelspec": {
   "display_name": "Python 3",
   "language": "python",
   "name": "python3"
  },
  "language_info": {
   "codemirror_mode": {
    "name": "ipython",
    "version": 3
   },
   "file_extension": ".py",
   "mimetype": "text/x-python",
   "name": "python",
   "nbconvert_exporter": "python",
   "pygments_lexer": "ipython3",
   "version": "3.7.6"
  }
 },
 "nbformat": 4,
 "nbformat_minor": 4
}
