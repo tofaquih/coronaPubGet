{
 "cells": [
  {
   "cell_type": "code",
   "execution_count": 1,
   "metadata": {},
   "outputs": [],
   "source": [
    "from Bio import Entrez\n",
    "Entrez.email = \"tariqf549@gmail.com\"\n",
    "handle = Entrez.einfo() # or esearch, efetch, ...\n",
    "record = Entrez.read(handle)\n",
    "handle.close()"
   ]
  },
  {
   "cell_type": "code",
   "execution_count": 4,
   "metadata": {},
   "outputs": [
    {
     "name": "stdout",
     "output_type": "stream",
     "text": [
      "2165\n"
     ]
    }
   ],
   "source": [
    "handle = Entrez.egquery(term=\"orchid\")\n",
    "record = Entrez.read(handle)\n",
    "for row in record[\"eGQueryResult\"]:\n",
    "    if row[\"DbName\"]==\"pubmed\":\n",
    "        print(row[\"Count\"])"
   ]
  },
  {
   "cell_type": "code",
   "execution_count": 14,
   "metadata": {},
   "outputs": [],
   "source": [
    "handle = Entrez.esearch(db=\"pubmed\", term=\"coronavirus covid-19\", retmax=10)\n",
    "record = Entrez.read(handle)\n",
    "handle.close()\n",
    "idlist = record[\"IdList\"]"
   ]
  },
  {
   "cell_type": "code",
   "execution_count": 15,
   "metadata": {},
   "outputs": [],
   "source": [
    "from Bio import Medline\n",
    "handle = Entrez.efetch(db=\"pubmed\", id=idlist[1:10], rettype=\"medline\",retmode=\"text\")\n",
    "records = Medline.parse(handle)"
   ]
  },
  {
   "cell_type": "code",
   "execution_count": 16,
   "metadata": {},
   "outputs": [
    {
     "name": "stdout",
     "output_type": "stream",
     "text": [
      "title: Policies on the use of respiratory protection for hospital health workers to protect from coronavirus disease (COVID-19).\n",
      "authors: ['Chughtai AA', 'Seale H', 'Islam MS', 'Owais M', 'Macintyre CR']\n",
      "source: Int J Nurs Stud. 2020 Mar 13;105:103567. doi: 10.1016/j.ijnurstu.2020.103567.\n",
      "\n",
      "title: Planning and provision of ECMO services for severe ARDS during the COVID-19 pandemic and other outbreaks of emerging infectious diseases.\n",
      "authors: ['Ramanathan K', 'Antognini D', 'Combes A', 'Paden M', 'Zakhary B', 'Ogino M', 'MacLaren G', 'Brodie D', 'Shekar K']\n",
      "source: Lancet Respir Med. 2020 Mar 20. pii: S2213-2600(20)30121-1. doi: 10.1016/S2213-2600(20)30121-1.\n",
      "\n",
      "title: Mass gathering events and reducing further global spread of COVID-19: a political and public health dilemma.\n",
      "authors: ['McCloskey B', 'Zumla A', 'Ippolito G', 'Blumberg L', 'Arbon P', 'Cicero A', 'Endericks T', 'Lim PL', 'Borodina M']\n",
      "source: Lancet. 2020 Mar 20. pii: S0140-6736(20)30681-4. doi: 10.1016/S0140-6736(20)30681-4.\n",
      "\n",
      "title: Rising to the Challenge of the Novel SARS-coronavirus-2 (SARS-CoV-2): Advice for Pulmonary and Critical Care and an Agenda for Research.\n",
      "authors: ['Niederman MS', 'Richeldi L', 'Chotirmall SH', 'Bai C']\n",
      "source: Am J Respir Crit Care Med. 2020 Mar 23. doi: 10.1164/rccm.202003-0741ED.\n",
      "\n",
      "title: Characterization of the receptor-binding domain (RBD) of 2019 novel coronavirus: implication for development of RBD protein as a viral attachment inhibitor and vaccine.\n",
      "authors: ['Tai W', 'He L', 'Zhang X', 'Pu J', 'Voronin D', 'Jiang S', 'Zhou Y', 'Du L']\n",
      "source: Cell Mol Immunol. 2020 Mar 19. pii: 10.1038/s41423-020-0400-4. doi: 10.1038/s41423-020-0400-4.\n",
      "\n",
      "title: Public Mental Health Crisis during COVID-19 Pandemic, China.\n",
      "authors: ['Dong L', 'Bouey J']\n",
      "source: Emerg Infect Dis. 2020 Mar 23;26(7). doi: 10.3201/eid2607.200407.\n",
      "\n",
      "title: Recommendations by the SEPD and AEG, both in general and on the operation of gastrointestinal endoscopy and gastroenterology units, concerning the current SARS-CoV-2 pandemic (March, 18).\n",
      "authors: ['Perez-Cuadrado Martinez E']\n",
      "source: Rev Esp Enferm Dig. 2020 Mar 23. doi: 10.17235/reed.2020.7052/2020.\n",
      "\n",
      "title: Coronavirus disease 2019: the harms of exaggerated information and non-evidence-based measures.\n",
      "authors: ['Ioannidis JPA']\n",
      "source: Eur J Clin Invest. 2020 Mar 23:e13223. doi: 10.1111/eci.13223.\n",
      "\n",
      "title: Factors Associated With Mental Health Outcomes Among Health Care Workers Exposed to Coronavirus Disease 2019.\n",
      "authors: ['Lai J', 'Ma S', 'Wang Y', 'Cai Z', 'Hu J', 'Wei N', 'Wu J', 'Du H', 'Chen T', 'Li R', 'Tan H', 'Kang L', 'Yao L', 'Huang M', 'Wang H', 'Wang G', 'Liu Z', 'Hu S']\n",
      "source: JAMA Netw Open. 2020 Mar 2;3(3):e203976. doi: 10.1001/jamanetworkopen.2020.3976.\n",
      "\n"
     ]
    }
   ],
   "source": [
    "records = list(records)\n",
    "#Let’s now iterate over the records to print out some information about each record:\n",
    "\n",
    "for record in records:\n",
    "    print(\"title:\", record.get(\"TI\", \"?\"))\n",
    "    print(\"authors:\", record.get(\"AU\", \"?\"))\n",
    "    print(\"source:\", record.get(\"SO\", \"?\"))\n",
    "    print(\"\")\n"
   ]
  },
  {
   "cell_type": "code",
   "execution_count": 17,
   "metadata": {},
   "outputs": [],
   "source": [
    "myterm = \"\"\"((\"coronavirus\"[MeSH Terms] OR \"coronavirus\"[All Fields]) AND (\"COVID-19\"[All Fields] OR \"severe acute respiratory syndrome coronavirus 2\"[Supplementary Concept] OR \"severe acute respiratory syndrome coronavirus 2\"[All Fields] OR \"2019-nCoV\"[All Fields] OR \"SARS-CoV-2\"[All Fields] OR \"2019nCoV\"[All Fields] OR ((\"Wuhan\"[All Fields] AND (\"coronavirus\"[MeSH Terms] OR \"coronavirus\"[All Fields])) AND 2019/12[PDAT] : 2030[PDAT]))) AND (\"2020/03/15\"[PDAT] : \"2020/03/23\"[PDAT])\"\"\""
   ]
  },
  {
   "cell_type": "code",
   "execution_count": 18,
   "metadata": {},
   "outputs": [
    {
     "name": "stdout",
     "output_type": "stream",
     "text": [
      "Found 186 results\n",
      "Going to download record 1 to 10\n",
      "Going to download record 11 to 20\n",
      "Going to download record 21 to 30\n",
      "Going to download record 31 to 40\n",
      "Going to download record 41 to 50\n",
      "Going to download record 51 to 60\n",
      "Going to download record 61 to 70\n",
      "Going to download record 71 to 80\n",
      "Going to download record 81 to 90\n",
      "Going to download record 91 to 100\n",
      "Going to download record 101 to 110\n",
      "Going to download record 111 to 120\n",
      "Going to download record 121 to 130\n",
      "Going to download record 131 to 140\n",
      "Going to download record 141 to 150\n",
      "Going to download record 151 to 160\n",
      "Going to download record 161 to 170\n",
      "Going to download record 171 to 180\n",
      "Going to download record 181 to 186\n"
     ]
    }
   ],
   "source": [
    "from Bio import Entrez\n",
    "\n",
    "Entrez.email = \"tariqf549@gmail.com\"\n",
    "search_results = Entrez.read(\n",
    "    Entrez.esearch(\n",
    "        db=\"pubmed\", term=myterm, reldate=365, datetype=\"pdat\", usehistory=\"y\"\n",
    "    )\n",
    ")\n",
    "count = int(search_results[\"Count\"])\n",
    "print(\"Found %i results\" % count)\n",
    "\n",
    "batch_size = 10\n",
    "out_handle = open(\"recent_orchid_papers.txt\", \"w\")\n",
    "for start in range(0, count, batch_size):\n",
    "    end = min(count, start + batch_size)\n",
    "    print(\"Going to download record %i to %i\" % (start + 1, end))\n",
    "    fetch_handle = Entrez.efetch(\n",
    "        db=\"pubmed\",\n",
    "        rettype=\"medline\",\n",
    "        retmode=\"text\",\n",
    "        retstart=start,\n",
    "        retmax=batch_size,\n",
    "        webenv=search_results[\"WebEnv\"],\n",
    "        query_key=search_results[\"QueryKey\"],\n",
    "    )\n",
    "    data = fetch_handle.read()\n",
    "    fetch_handle.close()\n",
    "    out_handle.write(data)\n",
    "out_handle.close()"
   ]
  },
  {
   "cell_type": "code",
   "execution_count": 3,
   "metadata": {},
   "outputs": [
    {
     "name": "stdout",
     "output_type": "stream",
     "text": [
      "Biopython: freely available Python tools for computational molecular biology and bioinformatics.\n",
      "PDB file parser and structure class implemented in Python.\n"
     ]
    }
   ],
   "source": [
    "handle = Entrez.esummary(db=\"pubmed\", id=\"19304878,14630660\", retmode=\"xml\")\n",
    "records = Entrez.parse(handle)\n",
    "for record in records:\n",
    "    # each record is a Python dictionary or list.\n",
    "    print(record['Title'])\n",
    "\n",
    "handle.close()"
   ]
  },
  {
   "cell_type": "code",
   "execution_count": 1,
   "metadata": {
    "scrolled": true
   },
   "outputs": [
    {
     "name": "stdout",
     "output_type": "stream",
     "text": [
      "\u001b[44;33mHello World!\u001b[m\n"
     ]
    }
   ],
   "source": [
    "print(\"\\033[44;33mHello World!\\033[m\")\n"
   ]
  },
  {
   "cell_type": "code",
   "execution_count": null,
   "metadata": {},
   "outputs": [],
   "source": []
  }
 ],
 "metadata": {
  "kernelspec": {
   "display_name": "Python 3",
   "language": "python",
   "name": "python3"
  },
  "language_info": {
   "codemirror_mode": {
    "name": "ipython",
    "version": 3
   },
   "file_extension": ".py",
   "mimetype": "text/x-python",
   "name": "python",
   "nbconvert_exporter": "python",
   "pygments_lexer": "ipython3",
   "version": "3.7.6"
  }
 },
 "nbformat": 4,
 "nbformat_minor": 4
}
