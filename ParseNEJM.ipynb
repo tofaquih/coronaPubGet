{
 "cells": [
  {
   "cell_type": "code",
   "execution_count": 1,
   "metadata": {},
   "outputs": [],
   "source": [
    "import requests\n",
    "import json\n",
    "import csv,os,sys\n",
    "from datetime import datetime\n",
    "from bs4 import BeautifulSoup\n",
    "\n",
    "\n",
    "#content = requests.get(url)\n",
    "#page = BeautifulSoup(open('Coronavirus (COVID19) _ JAMA Network.html'), \"html.parser\")\n",
    "\n",
    "nejmpage = \"https://www.nejm.org/coronavirus?query=main_nav_lg\"\n",
    "headers = {\n",
    "    \"User-Agent\": \"Mozilla/5.0 (Windows NT 10.0; Win64; x64; rv:66.0) Gecko/20100101 Firefox/66.0\",\n",
    "    \"Accept-Encoding\": \"*\",\n",
    "    \"Connection\": \"keep-alive\"\n",
    "}\n",
    "htmlpage = requests.get(nejmpage, headers=headers)\n",
    "\n",
    "page = BeautifulSoup(htmlpage.text, \"html.parser\")\n",
    "\n"
   ]
  },
  {
   "cell_type": "code",
   "execution_count": 52,
   "metadata": {},
   "outputs": [],
   "source": [
    "txt = []\n",
    "link = []\n",
    "ID = []\n",
    "AB = []\n",
    "Dates = []\n",
    "Type = []\n",
    "\n",
    "mydiv = page.find(\"div\", attrs={\"class\": \"col-md-2-3 o-col o-col--primary o-col--keyline-top\"})\n",
    "\n",
    "for entry in mydiv.find_all(\"b\", attrs={\"class\": \"m-article__title\"}):\n",
    "    txt.append(entry.text)\n",
    "for entry in mydiv.find_all(\"a\", attrs={\"class\": \"m-article__type\"}):\n",
    "    Type.append(entry.text)\n",
    "for entry in mydiv.find_all(\"a\", attrs={\"class\": \"m-article__link\"}):\n",
    "    link.append('https://www.nejm.org' + entry.get('href')) \n",
    "    articalid = entry.get('href').split('/')[-1].split('?')[0]\n",
    "    ID.append(articalid)\n",
    "for entry in mydiv.find_all(\"span\", attrs={\"class\": \"m-article__blurb\"}):\n",
    "    AB.append(entry.text.replace('\\n' , '')) \n",
    "for entry in mydiv.find_all(\"em\", attrs={\"class\": \"m-article__date\"}):\n",
    "    D = datetime.strptime(entry.text + ' 2020', '%b %d %Y')\n",
    "    Dates.append(D.strftime(\"%Y%m%d\"))\n",
    "\n",
    "    \n"
   ]
  },
  {
   "cell_type": "code",
   "execution_count": 55,
   "metadata": {},
   "outputs": [
    {
     "data": {
      "text/plain": [
       "33"
      ]
     },
     "execution_count": 55,
     "metadata": {},
     "output_type": "execute_result"
    }
   ],
   "source": [
    "len(ID)"
   ]
  },
  {
   "cell_type": "code",
   "execution_count": 46,
   "metadata": {},
   "outputs": [
    {
     "data": {
      "text/plain": [
       "['On February 28, 2020, public health officials in the Seattle area were informed of a Covid-19 infection at a long-term care facility. An investigation identified 167 infected persons associated with the facility, including residents, health care personnel, and visitors; more than a third of the 101 residents identified died.',\n",
       " 'Years of anti-immigrant policies and rhetoric will be difficult to reverse, but it’s essential that the Trump administration address the needs of undocumented immigrants in its response to the Covid-19 pandemic.',\n",
       " 'U.S. hospitals are already reporting shortages of key equipment needed to care for critically ill patients with Covid-19, including ventilators and personal protective equipment for medical staff. Adequate production and distribution of this equipment is crucial.',\n",
       " 'Bolstering our health system for the Covid-19 pandemic requires several critical moves, from expanding testing to protecting and expanding the health care workforce. Along the way, we must learn the lessons of this crisis so we can apply them to the next one.',\n",
       " 'Throughout the past few weeks, the U.K. mantra regarding Covid-19 has been “we will act at the appropriate time according to the science.” Though experts have been pushing the panic button, the alarm, if heard, was not acted on publicly until the third week of March.',\n",
       " 'Investigators in China report the results of an open-label, randomized clinical trial of lopinavir–ritonavir for the treatment of Covid-19 in 199 infected adult patients. The primary end point was the time to clinical improvement.',\n",
       " 'The Covid-19 pandemic has already stressed health care systems throughout the world, requiring rationing of medical equipment and care. The authors discuss the ethical values relevant to health care rationing and provide six recommendations to guide fair allocation of scarce medical resources during the pandemic.',\n",
       " 'Of all the medical care that will have to be rationed during the Covid-19 pandemic, the most problematic will be mechanical ventilation. One strategy for avoiding debilitating distress over these decisions is to use a triage committee to buffer bedside clinicians.',\n",
       " 'Community transmission of the new coronavirus is occurring in several parts of the United States, and travel bans and mandatory quarantines alone cannot end the outbreak. Many public health and legal scholars believe that more constructive tools are needed.',\n",
       " 'A front-line physician wonders how he can protect a vulnerable member of his household from the pathogens he’s exposed to in the ED — especially in a rapidly spreading pandemic of a novel virus and amid so many uncertainties.',\n",
       " 'In this research letter, investigators report on the stability of SARS-CoV-2 and SARS-CoV-1 under experimental conditions. The viability of the two viruses was assessed in aerosols and on plastic, stainless steel, copper, and cardboard.',\n",
       " 'Data on travelers returning from areas with many cases of Covid-19 may be useful in estimating incidence. The authors report follow-up data on 94 persons who boarded an evacuation flight from Wuhan, China, to Singapore on January 30, 2020.',\n",
       " 'Physicians in northern Italy have learned some painful lessons about rationing care during an epidemic. As health care systems work out ethical allocation principles, it seems clear that only with transparency and inclusivity can public trust and cooperation be achieved.',\n",
       " 'A retrospective analysis of routine surveillance data involving children hospitalized in central Wuhan, China, for acute lower respiratory infection in early January 2020 revealed six cases of Covid-19. The authors report clinical characteristics of the children and laboratory data.',\n",
       " 'Telemedicine’s payment and regulatory structures, licensing, credentialing, and implementation take time to work through, but health systems that have already invested in telemedicine are well positioned to ensure that patients with Covid-19 receive the care they need.',\n",
       " 'The history of human responses to epidemics carries various lessons for our current situation. Two of the more disheartening ones are that stigmatization follows closely on the heels of pathogens and that outbreaks too often claim the lives of health care providers.',\n",
       " 'Bill Gates writes that in any crisis, leaders have two equally important responsibilities: solve the immediate problem and keep it from happening again. In the case of the Covid-19 pandemic, the first point is especially pressing, but the second has crucial long-term consequences.',\n",
       " 'The authors comment on the early clinical features and epidemiology of cases reported in Wuhan, China, along with current mortality data, noting that the outbreak is a stark reminder of the need for constant surveillance, prompt diagnosis, and robust research.',\n",
       " 'In this study, researchers describe the clinical characteristics of coronavirus disease 2019 in a selected cohort of 1099 patients with laboratory-confirmed disease throughout mainland China during the first 2 months of the current outbreak.',\n",
       " 'A healthy 35 year-old man who had visited Wuhan, China, presented with cough and fever that progressed to pneumonia. This report describes the diagnosis, clinical course, and management of the condition. The case highlights the importance of close coordination between clinicians and public health authorities at the local, state, and federal levels.',\n",
       " 'With luck, public health control measures may be able to put the Covid-19 demons back in the jar. If they do not, we face a daunting challenge equal to, or perhaps greater than, that posed by the influenza pandemic of a century ago.',\n",
       " 'The authors report results of an analysis of nasal and throat swabs from 17 patients in Zhuhai, China, who had received a diagnosis of Covid-19. Higher viral loads soon after symptom onset indicate the need for isolation strategies different from those used for the earlier SARS epidemic.',\n",
       " 'A group of 126 German nationals was evacuated from Wuhan to Frankfurt after screening for symptoms of Covid-19 and was to undergo a 14-day quarantine and additional screening in Frankfurt. The authors discovered evidence of SARS-CoV-2 infection in throat swabs from 2 evacuated persons who had passed the symptoms-based screening.',\n",
       " 'Experience with MERS, pandemic influenza, and other outbreaks has shown that as an epidemic evolves, we face an urgent need to expand public health activities in order to elucidate the epidemiology of the novel virus and characterize its potential impact.',\n",
       " 'The authors describe transmission of the novel coronavirus from a woman who had been living for several months in Wuhan, China, to her husband, after her return to their home in Taiwan in January 2020. No secondary case from this couple has been identified.',\n",
       " 'The authors report the emergence and isolation of a previously unknown betacoronavirus, the seventh member of the family of coronaviruses that infect humans, in Wuhan, China. Findings in three patients are described.',\n",
       " 'The authors describe a taxi driver in Thailand who was infected with the novel coronavirus, potentially from passengers who were tourists from China, in January 2020. The infection appeared not to have spread to the taxi driver’s family or other close contacts.',\n",
       " 'In this report, investigators in Germany detected the spread of the novel coronavirus (2019-nCoV) from a person who had recently traveled from China to Germany for a business trip. This transmission occurred before the apparent onset of illness in the index patient and was associated with additional transmission events in Germany.',\n",
       " 'The editors announce expedited handling for submitted manuscripts describing the 2019-nCoV outbreak and make broad recommendations for speed, transparency, and data sharing.',\n",
       " 'For the third time in as many decades, a zoonotic coronavirus has crossed species to infect human populations. The genome of the virus, provisionally called 2019-nCoV, has now been sequenced.',\n",
       " 'The authors describe transmission of 2019-nCoV from a father, who had flown with his wife from Wuhan to Hanoi, to the son, who met his father and mother in central Vietnam and shared a hotel room with them for 3 days. The findings suggest that the incubation period in the son may have been 3 days or less.',\n",
       " 'A novel coronavirus, designated as 2019-nCoV, emerged in Wuhan, China, at the end of 2019. Although many details of the emergence of this virus remain unknown, it has put global public health institutions on high alert.',\n",
       " 'The authors provide an epidemiologic analysis of the first 425 confirmed cases of infection with the novel coronavirus in Wuhan, China. This analysis provides estimates of the epidemic doubling time and the basic reproductive number and shows clear evidence of sustained human-to-human transmission.',\n",
       " 'Listen to conversations with editors Eric Rubin and Lindsey Baden on the current coronavirus outbreak.',\n",
       " 'Anthony Fauci, Director of the National Institute of Allergy and Infectious Diseases, on talking with patients about Covid-19.',\n",
       " 'The HealthMap team from Boston Children’s Hospital tracks publicly reported confirmed and suspected cases of Covid-19 throughout the world. The map is automatically updated to show current data.',\n",
       " 'In April 2018, a group of renowned researchers, clinicians, public health officials, and others with first-hand experience dealing with epidemics explored the complex challenges of global health emergencies, as well as potential solutions. Watch the video.']"
      ]
     },
     "execution_count": 46,
     "metadata": {},
     "output_type": "execute_result"
    }
   ],
   "source": [
    "AB"
   ]
  },
  {
   "cell_type": "code",
   "execution_count": 35,
   "metadata": {},
   "outputs": [
    {
     "ename": "IndexError",
     "evalue": "list index out of range",
     "output_type": "error",
     "traceback": [
      "\u001b[1;31m---------------------------------------------------------------------------\u001b[0m",
      "\u001b[1;31mIndexError\u001b[0m                                Traceback (most recent call last)",
      "\u001b[1;32m<ipython-input-35-8d88be22f28d>\u001b[0m in \u001b[0;36m<module>\u001b[1;34m\u001b[0m\n\u001b[0;32m     13\u001b[0m     \u001b[1;32mif\u001b[0m \u001b[0mID\u001b[0m\u001b[1;33m[\u001b[0m\u001b[0mN\u001b[0m\u001b[1;33m]\u001b[0m \u001b[1;32mnot\u001b[0m \u001b[1;32min\u001b[0m \u001b[0mjsondict\u001b[0m\u001b[1;33m.\u001b[0m\u001b[0mkeys\u001b[0m\u001b[1;33m(\u001b[0m\u001b[1;33m)\u001b[0m\u001b[1;33m:\u001b[0m\u001b[1;33m\u001b[0m\u001b[1;33m\u001b[0m\u001b[0m\n\u001b[0;32m     14\u001b[0m         jsondict[ID[N]] = {'ID' : ID[N] , \n\u001b[1;32m---> 15\u001b[1;33m                           \u001b[1;34m'txt'\u001b[0m \u001b[1;33m:\u001b[0m \u001b[0mtxt\u001b[0m\u001b[1;33m[\u001b[0m\u001b[0mN\u001b[0m\u001b[1;33m]\u001b[0m\u001b[1;33m,\u001b[0m\u001b[1;33m\u001b[0m\u001b[1;33m\u001b[0m\u001b[0m\n\u001b[0m\u001b[0;32m     16\u001b[0m                           \u001b[1;34m'AB'\u001b[0m \u001b[1;33m:\u001b[0m \u001b[0mAB\u001b[0m\u001b[1;33m[\u001b[0m\u001b[0mN\u001b[0m\u001b[1;33m]\u001b[0m\u001b[1;33m,\u001b[0m\u001b[1;33m\u001b[0m\u001b[1;33m\u001b[0m\u001b[0m\n\u001b[0;32m     17\u001b[0m                           \u001b[1;34m'link'\u001b[0m \u001b[1;33m:\u001b[0m \u001b[0mlink\u001b[0m\u001b[1;33m[\u001b[0m\u001b[0mN\u001b[0m\u001b[1;33m]\u001b[0m\u001b[1;33m,\u001b[0m\u001b[1;33m\u001b[0m\u001b[1;33m\u001b[0m\u001b[0m\n",
      "\u001b[1;31mIndexError\u001b[0m: list index out of range"
     ]
    }
   ],
   "source": [
    "json_file = 'nejm.json'\n",
    "dict_file = 'nejm_dict_file.json'\n",
    "\n",
    "\n",
    "#read the stored dictionary file (dict_file) or create a new blank dictionary\n",
    "if os.path.isfile(dict_file):\n",
    "    jsondict = json.load(open(dict_file))\n",
    "else:\n",
    "    jsondict = {}    \n",
    "    \n",
    "    \n",
    "for N in range(0, len(ID)) :\n",
    "    if ID[N] not in jsondict.keys():\n",
    "        jsondict[ID[N]] = {'ID' : ID[N] , \n",
    "                          'txt' : txt[N],\n",
    "                          'AB' : AB[N],\n",
    "                          'link' : link[N],\n",
    "                           'Dates' : Dates[N],\n",
    "                           'Type' : Type[N]\n",
    "                          }\n",
    "jsondict\n",
    "\n",
    "\n",
    "#Write the main json file\n",
    "with open(json_file , 'w') as fp:   \n",
    "    Output=[]\n",
    "    for Key,Item in jsondict.items():\n",
    "        Output.append(Item)\n",
    "    json.dump(Output, fp)\n",
    "\n",
    "#Write the exact dict as json file (easily read by the script)\n",
    "with open(dict_file , 'w') as fp:   \n",
    "    json.dump(jsondict, fp)"
   ]
  },
  {
   "cell_type": "code",
   "execution_count": 74,
   "metadata": {},
   "outputs": [],
   "source": [
    "def MakeTemplate():\n",
    "    headerslist = []\n",
    "    for H in ('ID' ,'txt' ,'AB' ,'link' ,'Dates' ,'Type' ):\n",
    "\n",
    "        print(H)\n",
    "        headers = '=ImportJSON(\"https://raw.githubusercontent.com/tofaquih/coronaPubGet/master/nejm.json\", \"/{}\", \"noInherit,noTruncate\")'.format(H)\n",
    "        headerslist.append(headers)\n",
    "\n",
    "    headerslist\n",
    "    with open('nejm_template.csv' ,'w'  , newline='' ) as fp:\n",
    "        W = csv.writer(fp, delimiter=';')\n",
    "        W.writerow(headerslist)\n",
    "        "
   ]
  },
  {
   "cell_type": "code",
   "execution_count": 71,
   "metadata": {},
   "outputs": [
    {
     "name": "stdout",
     "output_type": "stream",
     "text": [
      "ID\n",
      "txt\n",
      "AB\n",
      "link\n",
      "Dates\n",
      "Type\n"
     ]
    }
   ],
   "source": [
    "MakeTemplate()"
   ]
  }
 ],
 "metadata": {
  "kernelspec": {
   "display_name": "Python 3",
   "language": "python",
   "name": "python3"
  },
  "language_info": {
   "codemirror_mode": {
    "name": "ipython",
    "version": 3
   },
   "file_extension": ".py",
   "mimetype": "text/x-python",
   "name": "python",
   "nbconvert_exporter": "python",
   "pygments_lexer": "ipython3",
   "version": "3.7.6"
  }
 },
 "nbformat": 4,
 "nbformat_minor": 4
}
