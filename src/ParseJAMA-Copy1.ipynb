{
 "cells": [
  {
   "cell_type": "code",
   "execution_count": 1,
   "metadata": {},
   "outputs": [],
   "source": [
    "import requests\n",
    "import json\n",
    "import csv,os,sys\n",
    "from datetime import datetime\n",
    "from bs4 import BeautifulSoup\n",
    "import urllib.request\n",
    "\n",
    "#content = requests.get(url)\n",
    "#page = BeautifulSoup(open('Coronavirus (COVID19) _ JAMA Network.html'), \"html.parser\")\n",
    "\n",
    "rivmpage = \"https://www.rivm.nl/nieuws/actuele-informatie-over-coronavirus/data\"\n",
    "headers = {\n",
    "    \"User-Agent\": \"Mozilla/5.0 (Windows NT 10.0; Win64; x64; rv:66.0) Gecko/20100101 Firefox/66.0\",\n",
    "    \"Accept-Encoding\": \"*\",\n",
    "    \"Connection\": \"keep-alive\"\n",
    "}\n",
    "htmlpage = requests.get(rivmpage, headers=headers)\n",
    "\n",
    "page = BeautifulSoup(htmlpage.text, \"html.parser\")\n",
    "\n"
   ]
  },
  {
   "cell_type": "code",
   "execution_count": 2,
   "metadata": {},
   "outputs": [
    {
     "name": "stdout",
     "output_type": "stream",
     "text": [
      "https://www.rivm.nl/sites/default/files/2020-03/ziekenhuismeldingen_30_maart.png\n"
     ]
    },
    {
     "data": {
      "text/plain": [
       "('00000001.jpg', <http.client.HTTPMessage at 0x22b7ff3d948>)"
      ]
     },
     "execution_count": 2,
     "metadata": {},
     "output_type": "execute_result"
    }
   ],
   "source": [
    "#mydiv = page.select('div.widget-body.body.body-regular')[0]\n",
    "X = page.find(\"article\", attrs={\"class\": \"embedded-entity\"})\n",
    "IMG = 'https://www.rivm.nl'+X.img['src']\n",
    "print(IMG)\n",
    "urllib.request.urlretrieve(IMG, \"00000001.jpg\" , )\n",
    "#class=\"embedded-entity\""
   ]
  },
  {
   "cell_type": "code",
   "execution_count": 28,
   "metadata": {},
   "outputs": [],
   "source": [
    "\n",
    "rivmpage = \"https://www.rivm.nl/nieuws/actuele-informatie-over-coronavirus\"\n",
    "headers = {\n",
    "    \"User-Agent\": \"Mozilla/5.0 (Windows NT 10.0; Win64; x64; rv:66.0) Gecko/20100101 Firefox/66.0\",\n",
    "    \"Accept-Encoding\": \"*\",\n",
    "    \"Connection\": \"keep-alive\"\n",
    "}\n",
    "htmlpage = requests.get(rivmpage, headers=headers)\n",
    "\n",
    "page = BeautifulSoup(htmlpage.text, \"html.parser\")\n"
   ]
  },
  {
   "cell_type": "code",
   "execution_count": 77,
   "metadata": {},
   "outputs": [
    {
     "name": "stdout",
     "output_type": "stream",
     "text": [
      "['11750 (+884)', '3990 (+507)', '864 (+93)', '9762 (+1159)', '2954 (+454)', '639 (+93)', '8603 (+1172)', '2500 (+349)', '546 (+112)', '7431 (+1019)', '434 (+78)', '2151 (+315)', '6412 (+852)', '356 (+80)', '1836 (+341)']\n",
      "2020 March 30\n",
      "\n",
      "2020 March 28\n",
      "\n",
      "2020 March 27\n",
      "\n",
      "2020 March 26\n",
      "\n",
      "2020 March 25\n",
      "\n"
     ]
    },
    {
     "data": {
      "text/plain": [
       "[{'Date': '2020 March 25',\n",
       "  'positief geteste patiënten': '11750 (+884)',\n",
       "  'patiënten opgenomen in het ziekenhuis': '3990 (+507)',\n",
       "  'overleden patiënten': '864 (+93)'},\n",
       " {'Date': '2020 March 25',\n",
       "  'positief geteste patiënten': '9762 (+1159)',\n",
       "  'patiënten opgenomen in het ziekenhuis': '2954 (+454)',\n",
       "  'overleden patiënten': '639 (+93)'},\n",
       " {'Date': '2020 March 25',\n",
       "  'positief geteste patiënten': '8603 (+1172)',\n",
       "  'patiënten opgenomen in het ziekenhuis': '2500 (+349)',\n",
       "  'overleden patiënten': '546 (+112)'},\n",
       " {'Date': '2020 March 25',\n",
       "  'positief geteste patiënten': '7431 (+1019)',\n",
       "  'patiënten opgenomen in het ziekenhuis': '434 (+78)',\n",
       "  'overleden patiënten': '2151 (+315)'},\n",
       " {'Date': '2020 March 25',\n",
       "  'positief geteste patiënten': '6412 (+852)',\n",
       "  'patiënten opgenomen in het ziekenhuis': '356 (+80)',\n",
       "  'overleden patiënten': '1836 (+341)'}]"
      ]
     },
     "execution_count": 77,
     "metadata": {},
     "output_type": "execute_result"
    }
   ],
   "source": [
    "#page.find_all('Het totaal')\n",
    "\n",
    "\n",
    "Overzicht = page.select('div.container.container-spacer-sm.content.nobg.clearfix')[0]\n",
    "Overzicht_aantallen = []\n",
    "Dates = []\n",
    "for Date in Overzicht.find_all(\"span\", attrs={\"class\": \"content-date-created\"}):\n",
    "    D = Date.text.split(' | ')[0]\n",
    "    D = datetime.strptime(D, '%d-%m-%Y')\n",
    "    Dates.append(D.strftime(\"%Y %B %d\"))\n",
    "    \n",
    "for O in Overzicht.find_all('span'):\n",
    "    patient_vals = O.text\n",
    "    if patient_vals.startswith('Het totaal aantal'):\n",
    "        patient_vals = patient_vals.split(': ')[-1].replace('.' , '')\n",
    "        if patient_vals not in Overzicht_aantallen:\n",
    "            Overzicht_aantallen.append(patient_vals)\n",
    "Output = []    \n",
    "print(Overzicht_aantallen)\n",
    "for n,i in enumerate(range(0,len(Overzicht_aantallen),3)):\n",
    "    print(Dates[n])\n",
    "    print()\n",
    "    Output.append({\n",
    "        'Date':Dates[N],\n",
    "        'positief geteste patiënten':Overzicht_aantallen[i],\n",
    "        'patiënten opgenomen in het ziekenhuis':Overzicht_aantallen[i+1],\n",
    "        'overleden patiënten':Overzicht_aantallen[i+2]\n",
    "    })\n",
    "Output   \n",
    "\n",
    "    #Output[Dates[N]] = \n",
    "    #print(N)\n",
    "    #print(Overzicht_aantallen[N])"
   ]
  },
  {
   "cell_type": "code",
   "execution_count": 4,
   "metadata": {},
   "outputs": [],
   "source": [
    "Output = [{'Date': '2020 March 25',\n",
    "  'positief geteste patiënten': '11750 (+884)',\n",
    "  'patiënten opgenomen in het ziekenhuis': '3990 (+507)',\n",
    "  'overleden patiënten': '864 (+93)'},\n",
    " {'Date': '2020 March 25',\n",
    "  'positief geteste patiënten': '9762 (+1159)',\n",
    "  'patiënten opgenomen in het ziekenhuis': '2954 (+454)',\n",
    "  'overleden patiënten': '639 (+93)'},\n",
    " {'Date': '2020 March 25',\n",
    "  'positief geteste patiënten': '8603 (+1172)',\n",
    "  'patiënten opgenomen in het ziekenhuis': '2500 (+349)',\n",
    "  'overleden patiënten': '546 (+112)'},\n",
    " {'Date': '2020 March 25',\n",
    "  'positief geteste patiënten': '7431 (+1019)',\n",
    "  'patiënten opgenomen in het ziekenhuis': '434 (+78)',\n",
    "  'overleden patiënten': '2151 (+315)'},\n",
    " {'Date': '2020 March 25',\n",
    "  'positief geteste patiënten': '6412 (+852)',\n",
    "  'patiënten opgenomen in het ziekenhuis': '356 (+80)',\n",
    "  'overleden patiënten': '1836 (+341)'}]"
   ]
  },
  {
   "cell_type": "code",
   "execution_count": null,
   "metadata": {},
   "outputs": [],
   "source": [
    "json.dump(Output)"
   ]
  }
 ],
 "metadata": {
  "kernelspec": {
   "display_name": "Python 3",
   "language": "python",
   "name": "python3"
  },
  "language_info": {
   "codemirror_mode": {
    "name": "ipython",
    "version": 3
   },
   "file_extension": ".py",
   "mimetype": "text/x-python",
   "name": "python",
   "nbconvert_exporter": "python",
   "pygments_lexer": "ipython3",
   "version": "3.7.6"
  }
 },
 "nbformat": 4,
 "nbformat_minor": 4
}
