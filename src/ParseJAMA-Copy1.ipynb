{
 "cells": [
  {
   "cell_type": "code",
   "execution_count": 13,
   "metadata": {},
   "outputs": [],
   "source": [
    "import requests\n",
    "import json\n",
    "import csv,os,sys\n",
    "from datetime import datetime\n",
    "from bs4 import BeautifulSoup\n",
    "import urllib.request\n",
    "\n",
    "#content = requests.get(url)\n",
    "#page = BeautifulSoup(open('Coronavirus (COVID19) _ JAMA Network.html'), \"html.parser\")\n",
    "\n",
    "rivmpage = \"https://www.rivm.nl/nieuws/actuele-informatie-over-coronavirus/data\"\n",
    "headers = {\n",
    "    \"User-Agent\": \"Mozilla/5.0 (Windows NT 10.0; Win64; x64; rv:66.0) Gecko/20100101 Firefox/66.0\",\n",
    "    \"Accept-Encoding\": \"*\",\n",
    "    \"Connection\": \"keep-alive\"\n",
    "}\n",
    "htmlpage = requests.get(rivmpage, headers=headers)\n",
    "\n",
    "page = BeautifulSoup(htmlpage.text, \"html.parser\")\n",
    "\n"
   ]
  },
  {
   "cell_type": "code",
   "execution_count": 14,
   "metadata": {},
   "outputs": [
    {
     "name": "stdout",
     "output_type": "stream",
     "text": [
      "https://www.rivm.nl/sites/default/files/2020-03/Ziekenhuismeldingen_31-03.png\n"
     ]
    },
    {
     "data": {
      "text/plain": [
       "('00000001.jpg', <http.client.HTTPMessage at 0x22b000dfa88>)"
      ]
     },
     "execution_count": 14,
     "metadata": {},
     "output_type": "execute_result"
    }
   ],
   "source": [
    "#mydiv = page.select('div.widget-body.body.body-regular')[0]\n",
    "X = page.find(\"article\", attrs={\"class\": \"embedded-entity\"})\n",
    "IMG = 'https://www.rivm.nl'+X.img['src']\n",
    "print(IMG)\n",
    "urllib.request.urlretrieve(IMG, \"00000001.jpg\" , )\n",
    "#class=\"embedded-entity\""
   ]
  },
  {
   "cell_type": "code",
   "execution_count": 15,
   "metadata": {},
   "outputs": [],
   "source": [
    "\n",
    "rivmpage = \"https://www.rivm.nl/nieuws/actuele-informatie-over-coronavirus\"\n",
    "headers = {\n",
    "    \"User-Agent\": \"Mozilla/5.0 (Windows NT 10.0; Win64; x64; rv:66.0) Gecko/20100101 Firefox/66.0\",\n",
    "    \"Accept-Encoding\": \"*\",\n",
    "    \"Connection\": \"keep-alive\"\n",
    "}\n",
    "htmlpage = requests.get(rivmpage, headers=headers)\n",
    "\n",
    "page = BeautifulSoup(htmlpage.text, \"html.parser\")\n"
   ]
  },
  {
   "cell_type": "code",
   "execution_count": 16,
   "metadata": {},
   "outputs": [],
   "source": [
    "json_file = '../jsonfiles/rivm.json'\n",
    "\n",
    "\n",
    "#read the stored dictionary file (dict_file) or create a new blank dictionary\n",
    "if os.path.isfile(json_file):\n",
    "    jsondict = json.load(open(json_file))\n",
    "else:\n",
    "    jsondict = {}"
   ]
  },
  {
   "cell_type": "code",
   "execution_count": 17,
   "metadata": {},
   "outputs": [
    {
     "data": {
      "text/plain": [
       "{}"
      ]
     },
     "execution_count": 17,
     "metadata": {},
     "output_type": "execute_result"
    }
   ],
   "source": [
    "jsondict"
   ]
  },
  {
   "cell_type": "code",
   "execution_count": 21,
   "metadata": {},
   "outputs": [
    {
     "name": "stdout",
     "output_type": "stream",
     "text": [
      "<div class=\"container container-spacer-sm content nobg clearfix\" data-color=\"\">\n",
      "<p><span>*</span><em>Het werkelijke aantal besmettingen met het nieuwe coronavirus ligt hoger dan het aantal dat hier genoemd wordt. Dit komt omdat niet iedereen met mogelijke besmetting getest wordt<br>\n",
      "** Er is een vertraging tussen de dag van overlijden en de dag dat overlijden gerapporteerd wordt. </br></em></p>\n",
      "<hr/><h2>De coronakaart vanaf vandaag gewijzigd naar aantal opgenomen patiënten</h2>\n",
      "<p>Er zijn verschillende manieren om de verspreiding van COVID-19 in Nederland te laten zien. De beste data die er op dit moment zijn, zijn de ziekenhuisopnames per gemeente. Daarom vanaf vandaag op de kaart te zien het aantal opgenomen personen in het ziekenhuis. De verspreiding laat de woonplaats van de patiënten zien.</p>\n",
      "</div>\n",
      "<div class=\"container container-spacer-sm content nobg clearfix\" data-color=\"\">\n",
      "<p><span>*</span><em>Het werkelijke aantal besmettingen met het nieuwe coronavirus ligt hoger dan het aantal dat hier genoemd wordt. Dit komt omdat niet iedereen met mogelijke besmetting getest wordt<br>\n",
      "** Er is een vertraging tussen de dag van overlijden en de dag dat overlijden gerapporteerd wordt. </br></em></p>\n",
      "<hr/><h2>De coronakaart vanaf vandaag gewijzigd naar aantal opgenomen patiënten</h2>\n",
      "<p>Er zijn verschillende manieren om de verspreiding van COVID-19 in Nederland te laten zien. De beste data die er op dit moment zijn, zijn de ziekenhuisopnames per gemeente. Daarom vanaf vandaag op de kaart te zien het aantal opgenomen personen in het ziekenhuis. De verspreiding laat de woonplaats van de patiënten zien.</p>\n",
      "</div>\n",
      "<span>*</span>\n",
      "[]\n"
     ]
    },
    {
     "data": {
      "text/plain": [
       "{}"
      ]
     },
     "execution_count": 21,
     "metadata": {},
     "output_type": "execute_result"
    }
   ],
   "source": [
    "#page.find_all('Het totaal')\n",
    "\n",
    "\n",
    "Overzicht = page.select('div.container.container-spacer-sm.content.nobg.clearfix')[0]\n",
    "print(Overzicht)\n",
    "Overzicht_aantallen = []\n",
    "Dates = []\n",
    "for Date in Overzicht.find_all(\"span\", attrs={\"class\": \"content-date-created\"}):\n",
    "    D = Date.text.split(' | ')[0]\n",
    "    D = datetime.strptime(D, '%d-%m-%Y')\n",
    "    Dates.append(D.strftime(\"%Y %B %d\"))\n",
    "print(Overzicht)   \n",
    "for O in Overzicht.find_all('span'):\n",
    "    print(O)\n",
    "    patient_vals = O.text\n",
    "    if patient_vals.startswith('Het totaal aantal'):\n",
    "        patient_vals = patient_vals.split(': ')[-1].replace('.' , '')\n",
    "        if patient_vals not in Overzicht_aantallen:\n",
    "            Overzicht_aantallen.append(patient_vals)\n",
    "Output = {}   \n",
    "print(Overzicht_aantallen)\n",
    "for n,i in enumerate(range(0,len(Overzicht_aantallen),3)):\n",
    "    print(Dates[n])\n",
    "    Output[Dates[n]] = {\n",
    "        'Date':Dates[N],\n",
    "        'positief geteste patiënten':Overzicht_aantallen[i],\n",
    "        'patiënten opgenomen in het ziekenhuis':Overzicht_aantallen[i+1],\n",
    "        'overleden patiënten':Overzicht_aantallen[i+2]\n",
    "    }\n",
    "    \n",
    "Output   \n",
    "\n",
    "    #Output[Dates[N]] = \n",
    "    #print(N)\n",
    "    #print(Overzicht_aantallen[N])"
   ]
  },
  {
   "cell_type": "code",
   "execution_count": 6,
   "metadata": {},
   "outputs": [],
   "source": [
    "Output = [{'Date': '2020 March 25',\n",
    "  'positief geteste patiënten': '11750 (+884)',\n",
    "  'patiënten opgenomen in het ziekenhuis': '3990 (+507)',\n",
    "  'overleden patiënten': '864 (+93)'},\n",
    " {'Date': '2020 March 25',\n",
    "  'positief geteste patiënten': '9762 (+1159)',\n",
    "  'patiënten opgenomen in het ziekenhuis': '2954 (+454)',\n",
    "  'overleden patiënten': '639 (+93)'},\n",
    " {'Date': '2020 March 25',\n",
    "  'positief geteste patiënten': '8603 (+1172)',\n",
    "  'patiënten opgenomen in het ziekenhuis': '2500 (+349)',\n",
    "  'overleden patiënten': '546 (+112)'},\n",
    " {'Date': '2020 March 25',\n",
    "  'positief geteste patiënten': '7431 (+1019)',\n",
    "  'patiënten opgenomen in het ziekenhuis': '434 (+78)',\n",
    "  'overleden patiënten': '2151 (+315)'},\n",
    " {'Date': '2020 March 25',\n",
    "  'positief geteste patiënten': '6412 (+852)',\n",
    "  'patiënten opgenomen in het ziekenhuis': '356 (+80)',\n",
    "  'overleden patiënten': '1836 (+341)'}]"
   ]
  },
  {
   "cell_type": "code",
   "execution_count": 7,
   "metadata": {},
   "outputs": [],
   "source": [
    "with open(json_file , 'w') as fp:   \n",
    "    json.dump(Output, fp)"
   ]
  }
 ],
 "metadata": {
  "kernelspec": {
   "display_name": "Python 3",
   "language": "python",
   "name": "python3"
  },
  "language_info": {
   "codemirror_mode": {
    "name": "ipython",
    "version": 3
   },
   "file_extension": ".py",
   "mimetype": "text/x-python",
   "name": "python",
   "nbconvert_exporter": "python",
   "pygments_lexer": "ipython3",
   "version": "3.7.6"
  }
 },
 "nbformat": 4,
 "nbformat_minor": 4
}
